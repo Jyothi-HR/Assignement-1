{
 "cells": [
  {
   "cell_type": "code",
   "execution_count": 1,
   "metadata": {},
   "outputs": [
    {
     "name": "stdout",
     "output_type": "stream",
     "text": [
      "hello\n"
     ]
    }
   ],
   "source": [
    "#-1-Ist Question  from Assignement 1 Task 1\n",
    "print ('hello')"
   ]
  },
  {
   "cell_type": "code",
   "execution_count": 6,
   "metadata": {},
   "outputs": [
    {
     "name": "stdout",
     "output_type": "stream",
     "text": [
      "3199\n"
     ]
    }
   ],
   "source": [
    "#Assignment-1 -Task1-2Q Write a program which will find all such numbers which are divisible by 7 but are not a multiple\n",
    "#of 5, between 2000 and 3200 (both included). The numbers obtained should be printed in a\n",
    "#comma-separated sequence on a single line. \n",
    "list1=[]\n",
    "for i in range(2000,3200):\n",
    "    if((i%7==0) and (i%5!=0)):\n",
    "        list1=i\n",
    "print(list1)"
   ]
  },
  {
   "cell_type": "code",
   "execution_count": 58,
   "metadata": {},
   "outputs": [
    {
     "name": "stdout",
     "output_type": "stream",
     "text": [
      "Input First Name:Jyothi\n",
      "Input Last Name:Rangappa\n",
      "First and Last Name Reversed: ihtoyJ appagnaR\n"
     ]
    }
   ],
   "source": [
    "#Assignment-1-Task1- 3Q\n",
    "\n",
    "#Write a Python program to accept the user's first and last name and then getting them printed in\n",
    "#the the reverse order with a space between first name and last name.\n",
    "\n",
    "Firstname=input(\"Input First Name:\")\n",
    "Lastname=input(\"Input Last Name:\")\n",
    "first=Firstname[::-1]\n",
    "Last=Lastname[::-1]\n",
    "print(\"First and Last Name Reversed:\", first, Last)"
   ]
  },
  {
   "cell_type": "code",
   "execution_count": 57,
   "metadata": {},
   "outputs": [
    {
     "name": "stdout",
     "output_type": "stream",
     "text": [
      "904.3199999999999\n"
     ]
    }
   ],
   "source": [
    "#Assignment-1-Task1- 4Q\n",
    "#Write a Python program to find the volume of a sphere with diameter 12 cm.\n",
    "#Formula: V=4/3 * π * r 3\n",
    "pi=3.14\n",
    "r=12/2\n",
    "v=(4/3)*pi*(r**3)\n",
    "print(v)\n"
   ]
  },
  {
   "cell_type": "code",
   "execution_count": 27,
   "metadata": {},
   "outputs": [
    {
     "name": "stdout",
     "output_type": "stream",
     "text": [
      "sequence of comma-separated numbers : 8,3,4,5\n",
      "['8', '3', '4', '5']\n"
     ]
    }
   ],
   "source": [
    "#Assignment-1-Task2- 1Q\n",
    "#Write a program which accepts a sequence of comma-separated numbers from console and generate a list.\n",
    "\n",
    "in1=input(\"sequence of comma-separated numbers : \")\n",
    "list1=in1.split(\",\")\n",
    "print(list1)\n"
   ]
  },
  {
   "cell_type": "raw",
   "metadata": {},
   "source": []
  },
  {
   "cell_type": "code",
   "execution_count": 48,
   "metadata": {},
   "outputs": [
    {
     "name": "stdout",
     "output_type": "stream",
     "text": [
      "Enter number of rows :5\n",
      "* \n",
      "* * \n",
      "* * * \n",
      "* * * * \n",
      "* * * * * \n",
      "* * * * \n",
      "* * * \n",
      "* * \n",
      "* \n",
      "\n"
     ]
    }
   ],
   "source": [
    "#Assignment-1-Task2- 2Q\n",
    "\"\"\"Create the below pattern using nested for loop in Python.\n",
    "*\n",
    "* *\n",
    "* * *\n",
    "* * * *\n",
    "* * * * *\n",
    "* * * *\n",
    "* * *\n",
    "* *\n",
    "*\"\"\"\n",
    "\n",
    "max1=input(\"Enter number of rows :\")\n",
    "max1=int(max1)\n",
    "for i in range(0,max1):\n",
    "    for j in range(0, (i+1)):\n",
    "        print(\"* \",end=\"\")\n",
    "    print(\"\\r\")\n",
    "for i in range(max1,0,-1):\n",
    "    for j in range(0, (i-1)):\n",
    "        print(\"* \",end=\"\")\n",
    "    print(\"\\r\")"
   ]
  },
  {
   "cell_type": "code",
   "execution_count": 54,
   "metadata": {},
   "outputs": [
    {
     "name": "stdout",
     "output_type": "stream",
     "text": [
      "Input word:AcadGild\n",
      "Reversed word:  dliGdacA\n"
     ]
    }
   ],
   "source": [
    "#Assignment-1-Task2- 3Q\n",
    "#Write a Python program to reverse a word after accepting the input from the user.\n",
    "#Sample Output:\n",
    "#Input word: AcadGild\n",
    "#Output: dilGdacA\n",
    "inrev=input(\"Input word:\")\n",
    "rev=inrev[::-1]\n",
    "print(\"Reversed word: \", rev)\n"
   ]
  },
  {
   "cell_type": "code",
   "execution_count": 68,
   "metadata": {},
   "outputs": [
    {
     "name": "stdout",
     "output_type": "stream",
     "text": [
      "WE, THE PEOPLE OF INDIA,\n",
      "\thaving solemnly resolved to constitute India into a SOVEREIGN, !\n",
      "\t\tSOCIALIST, SECULAR, DEMOCRATIC REPUBLIC \n",
      "\t\tand to secure to all its citizens\n"
     ]
    }
   ],
   "source": [
    "#Assignment-1-Task2- 4Q\n",
    "\"\"\"Write a Python Program to print the given string in the format specified in the sample output.\n",
    "WE, THE PEOPLE OF INDIA, having solemnly resolved to constitute India into a\n",
    "SOVEREIGN, SOCIALIST, SECULAR, DEMOCRATIC REPUBLIC and to secure to all\n",
    "its citizens\n",
    "Sample Output:\n",
    "WE, THE PEOPLE OF INDIA,\n",
    "    having solemnly resolved to constitute India into a SOVEREIGN, !\n",
    "        SOCIALIST, SECULAR, DEMOCRATIC REPUBLIC\n",
    "        and to secure to all its citizens\n",
    "NOTE: The solution shared through Github should contain the source code used and\n",
    "the screenshot of the output.\"\"\"\n",
    "\n",
    "print(\"WE, THE PEOPLE OF INDIA,\\n\\thaving solemnly resolved to constitute India into a SOVEREIGN, !\\n\\t\\tSOCIALIST, SECULAR, DEMOCRATIC REPUBLIC \\n\\t\\tand to secure to all its citizens\")\n",
    "\n"
   ]
  },
  {
   "cell_type": "code",
   "execution_count": null,
   "metadata": {},
   "outputs": [],
   "source": []
  }
 ],
 "metadata": {
  "kernelspec": {
   "display_name": "Python 3",
   "language": "python",
   "name": "python3"
  },
  "language_info": {
   "codemirror_mode": {
    "name": "ipython",
    "version": 3
   },
   "file_extension": ".py",
   "mimetype": "text/x-python",
   "name": "python",
   "nbconvert_exporter": "python",
   "pygments_lexer": "ipython3",
   "version": "3.7.3"
  }
 },
 "nbformat": 4,
 "nbformat_minor": 2
}
